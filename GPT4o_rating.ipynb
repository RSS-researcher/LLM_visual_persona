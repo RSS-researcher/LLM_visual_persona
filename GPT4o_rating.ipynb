{
 "cells": [
  {
   "cell_type": "code",
   "execution_count": 2,
   "metadata": {},
   "outputs": [
    {
     "name": "stderr",
     "output_type": "stream",
     "text": [
      "Processing images:   1%|          | 52/5185 [04:20<7:56:09,  5.57s/it]"
     ]
    },
    {
     "name": "stdout",
     "output_type": "stream",
     "text": [
      "Request failed: 502 Server Error: Bad Gateway for url: https://api.openai.com/v1/chat/completions\n"
     ]
    },
    {
     "name": "stderr",
     "output_type": "stream",
     "text": [
      "Processing images:   5%|▍         | 249/5185 [20:20<8:02:35,  5.87s/it]"
     ]
    },
    {
     "name": "stdout",
     "output_type": "stream",
     "text": [
      "Request failed: 520 Server Error:  for url: https://api.openai.com/v1/chat/completions\n"
     ]
    },
    {
     "name": "stderr",
     "output_type": "stream",
     "text": [
      "Processing images:   7%|▋         | 350/5185 [28:29<6:19:13,  4.71s/it]"
     ]
    },
    {
     "name": "stdout",
     "output_type": "stream",
     "text": [
      "Request failed: 400 Client Error: Bad Request for url: https://api.openai.com/v1/chat/completions\n"
     ]
    },
    {
     "name": "stderr",
     "output_type": "stream",
     "text": [
      "Processing images:   8%|▊         | 406/5185 [33:06<6:04:17,  4.57s/it]"
     ]
    },
    {
     "name": "stdout",
     "output_type": "stream",
     "text": [
      "Request failed: 500 Server Error: Internal Server Error for url: https://api.openai.com/v1/chat/completions\n"
     ]
    },
    {
     "name": "stderr",
     "output_type": "stream",
     "text": [
      "Processing images:  13%|█▎        | 681/5185 [55:55<7:16:45,  5.82s/it] "
     ]
    },
    {
     "name": "stdout",
     "output_type": "stream",
     "text": [
      "Request failed: 500 Server Error: Internal Server Error for url: https://api.openai.com/v1/chat/completions\n"
     ]
    },
    {
     "name": "stderr",
     "output_type": "stream",
     "text": [
      "Processing images:  21%|██        | 1073/5185 [1:28:47<5:08:57,  4.51s/it]"
     ]
    },
    {
     "name": "stdout",
     "output_type": "stream",
     "text": [
      "Request failed: 400 Client Error: Bad Request for url: https://api.openai.com/v1/chat/completions\n"
     ]
    },
    {
     "name": "stderr",
     "output_type": "stream",
     "text": [
      "Processing images:  21%|██        | 1080/5185 [1:29:24<5:37:48,  4.94s/it]"
     ]
    },
    {
     "name": "stdout",
     "output_type": "stream",
     "text": [
      "Request failed: 500 Server Error: Internal Server Error for url: https://api.openai.com/v1/chat/completions\n"
     ]
    },
    {
     "name": "stderr",
     "output_type": "stream",
     "text": [
      "Processing images:  21%|██        | 1096/5185 [1:31:00<6:10:30,  5.44s/it]"
     ]
    },
    {
     "name": "stdout",
     "output_type": "stream",
     "text": [
      "Request failed: 500 Server Error: Internal Server Error for url: https://api.openai.com/v1/chat/completions\n"
     ]
    },
    {
     "name": "stderr",
     "output_type": "stream",
     "text": [
      "Processing images:  27%|██▋       | 1380/5185 [1:55:36<4:52:41,  4.62s/it] "
     ]
    },
    {
     "name": "stdout",
     "output_type": "stream",
     "text": [
      "Request failed: 500 Server Error: Internal Server Error for url: https://api.openai.com/v1/chat/completions\n"
     ]
    },
    {
     "name": "stderr",
     "output_type": "stream",
     "text": [
      "Processing images:  36%|███▌      | 1876/5185 [2:36:06<4:10:22,  4.54s/it] "
     ]
    },
    {
     "name": "stdout",
     "output_type": "stream",
     "text": [
      "Request failed: 520 Server Error:  for url: https://api.openai.com/v1/chat/completions\n"
     ]
    },
    {
     "name": "stderr",
     "output_type": "stream",
     "text": [
      "Processing images:  51%|█████     | 2640/5185 [3:37:02<3:14:19,  4.58s/it]"
     ]
    },
    {
     "name": "stdout",
     "output_type": "stream",
     "text": [
      "Request failed: 520 Server Error:  for url: https://api.openai.com/v1/chat/completions\n"
     ]
    },
    {
     "name": "stderr",
     "output_type": "stream",
     "text": [
      "Processing images:  56%|█████▌    | 2915/5185 [3:59:18<2:57:47,  4.70s/it]"
     ]
    },
    {
     "name": "stdout",
     "output_type": "stream",
     "text": [
      "Request failed: 500 Server Error: Internal Server Error for url: https://api.openai.com/v1/chat/completions\n"
     ]
    },
    {
     "name": "stderr",
     "output_type": "stream",
     "text": [
      "Processing images:  56%|█████▋    | 2921/5185 [4:00:09<3:44:15,  5.94s/it]"
     ]
    },
    {
     "name": "stdout",
     "output_type": "stream",
     "text": [
      "Request failed: 500 Server Error: Internal Server Error for url: https://api.openai.com/v1/chat/completions\n"
     ]
    },
    {
     "name": "stderr",
     "output_type": "stream",
     "text": [
      "Processing images:  71%|███████   | 3676/5185 [5:00:08<2:00:33,  4.79s/it]"
     ]
    },
    {
     "name": "stdout",
     "output_type": "stream",
     "text": [
      "Request failed: 520 Server Error:  for url: https://api.openai.com/v1/chat/completions\n"
     ]
    },
    {
     "name": "stderr",
     "output_type": "stream",
     "text": [
      "Processing images:  88%|████████▊ | 4586/5185 [6:13:34<56:46,  5.69s/it]  "
     ]
    },
    {
     "name": "stdout",
     "output_type": "stream",
     "text": [
      "Request failed: 520 Server Error:  for url: https://api.openai.com/v1/chat/completions\n"
     ]
    },
    {
     "name": "stderr",
     "output_type": "stream",
     "text": [
      "Processing images:  98%|█████████▊| 5099/5185 [6:54:30<07:25,  5.18s/it]  "
     ]
    },
    {
     "name": "stdout",
     "output_type": "stream",
     "text": [
      "Request failed: 520 Server Error:  for url: https://api.openai.com/v1/chat/completions\n"
     ]
    },
    {
     "name": "stderr",
     "output_type": "stream",
     "text": [
      "Processing images:  99%|█████████▉| 5139/5185 [6:57:30<03:12,  4.17s/it]"
     ]
    },
    {
     "name": "stdout",
     "output_type": "stream",
     "text": [
      "Request failed: 520 Server Error:  for url: https://api.openai.com/v1/chat/completions\n"
     ]
    },
    {
     "name": "stderr",
     "output_type": "stream",
     "text": [
      "Processing images: 100%|██████████| 5185/5185 [7:01:15<00:00,  4.87s/it]"
     ]
    },
    {
     "name": "stdout",
     "output_type": "stream",
     "text": [
      "Excel file has been saved successfully.\n"
     ]
    },
    {
     "name": "stderr",
     "output_type": "stream",
     "text": [
      "\n"
     ]
    }
   ],
   "source": [
    "import base64\n",
    "import requests\n",
    "import os\n",
    "import pandas as pd\n",
    "from tqdm import tqdm  # Import the tqdm library for progress bar\n",
    "import time\n",
    "import re\n",
    "\n",
    "# OpenAI API Key (replace with your own API key)\n",
    "my_api_key = \"your_api_key_here\"\n",
    "\n",
    "# Function to encode the image\n",
    "def encode_image(image_path):\n",
    "    with open(image_path, \"rb\") as image_file:\n",
    "        return base64.b64encode(image_file.read()).decode('utf-8')\n",
    "\n",
    "# Specify the folder path\n",
    "folder_path = \"/path/to/your/folder\"\n",
    "\n",
    "headers = {\n",
    "    \"Content-Type\": \"application/json\",\n",
    "    \"Authorization\": f\"Bearer {my_api_key}\"\n",
    "}\n",
    "\n",
    "# Function to extract number for sorting files numerically\n",
    "def extract_number(file_name):\n",
    "    match = re.search(r'(\\d+)', file_name)\n",
    "    return int(match.group(1)) if match else -1\n",
    "\n",
    "results = []\n",
    "file_list = sorted([f for f in os.listdir(folder_path) if f.endswith(\".png\")], key=extract_number)  # Sort files by number\n",
    "\n",
    "try:\n",
    "    for filename in tqdm(file_list, desc=\"Processing images\"):\n",
    "        image_path = os.path.join(folder_path, filename)\n",
    "        base64_image = encode_image(image_path)\n",
    "\n",
    "        payload = {\n",
    "            \"model\": \"gpt-4o\",\n",
    "            \"temperature\": 0.0,\n",
    "            \"messages\": [\n",
    "                {\n",
    "                    \"role\": \"system\",\n",
    "                    \"content\": [\n",
    "                        {\n",
    "                            \"type\": \"text\",\n",
    "                            \"text\": \"\"\"\n",
    "Based on the picture of the fictional character, evaluate their appearance. Rate how aggressive the character looks from 1 to 7, with 7 being the most aggressive. Please answer with numbers only.\n",
    "\"\"\"\n",
    "                        }\n",
    "                    ]\n",
    "                },\n",
    "                {\n",
    "                    \"role\": \"user\",\n",
    "                    \"content\": [\n",
    "                        {\n",
    "                            \"type\": \"image_url\",\n",
    "                            \"image_url\": {\n",
    "                                \"url\": f\"data:image/jpeg;base64,{base64_image}\",\n",
    "                                # \"detail\": \"low\"\n",
    "                            }\n",
    "                        }\n",
    "                    ]\n",
    "                }\n",
    "            ],\n",
    "            \"max_tokens\": 1\n",
    "        }\n",
    "\n",
    "        for attempt in range(5):  # Maximum 5 attempts\n",
    "            try:\n",
    "                response = requests.post(\"https://api.openai.com/v1/chat/completions\", headers=headers, json=payload)\n",
    "                response.raise_for_status()\n",
    "                response_data = response.json()\n",
    "                aggression_score = response_data.get('choices', [{}])[0].get('message', {}).get('content')\n",
    "                results.append({'filename': filename, 'aggression_score': aggression_score})\n",
    "                break  # Exit the loop if successful\n",
    "            except requests.exceptions.RequestException as e:\n",
    "                print(f\"Request failed: {e}\")\n",
    "                if 'Connection error' in str(e):\n",
    "                    print(\"Connection error detected. Waiting for 5 minutes before retrying...\")\n",
    "                    time.sleep(300)  # Wait for 5 minutes\n",
    "                else:\n",
    "                    time.sleep(1)  # Wait for 1 second for other errors\n",
    "                if attempt == 4:\n",
    "                    print(\"Max retries reached. Saving progress and exiting.\")\n",
    "                    raise e\n",
    "\n",
    "except Exception as e:\n",
    "    print(f\"An error occurred: {e}\")\n",
    "\n",
    "finally:\n",
    "    # Convert results to DataFrame\n",
    "    df_results = pd.DataFrame(results)\n",
    "    # Save to Excel file\n",
    "    df_results.to_excel(\"/path/to/save/gpt_sd_full_final.xlsx\", index=False)\n",
    "    print(\"Excel file has been saved successfully.\")\n"
   ]
  },
  {
   "cell_type": "markdown",
   "metadata": {},
   "source": []
  },
  {
   "cell_type": "markdown",
   "metadata": {},
   "source": []
  }
 ],
 "metadata": {
  "kernelspec": {
   "display_name": "Python 3",
   "language": "python",
   "name": "python3"
  },
  "language_info": {
   "codemirror_mode": {
    "name": "ipython",
    "version": 3
   },
   "file_extension": ".py",
   "mimetype": "text/x-python",
   "name": "python",
   "nbconvert_exporter": "python",
   "pygments_lexer": "ipython3",
   "version": "0.0.0"
  }
 },
 "nbformat": 4,
 "nbformat_minor": 2
}
